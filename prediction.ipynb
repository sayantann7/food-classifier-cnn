{
 "cells": [
  {
   "cell_type": "markdown",
   "id": "29a2ed93",
   "metadata": {},
   "source": [
    "## Making a Prediction on the Saved Model"
   ]
  },
  {
   "cell_type": "code",
   "execution_count": 1,
   "id": "ef92d73c",
   "metadata": {},
   "outputs": [
    {
     "name": "stderr",
     "output_type": "stream",
     "text": [
      "2025-08-24 13:56:18.032349: I tensorflow/core/util/port.cc:153] oneDNN custom operations are on. You may see slightly different numerical results due to floating-point round-off errors from different computation orders. To turn them off, set the environment variable `TF_ENABLE_ONEDNN_OPTS=0`.\n",
      "2025-08-24 13:56:18.065418: I tensorflow/core/platform/cpu_feature_guard.cc:210] This TensorFlow binary is optimized to use available CPU instructions in performance-critical operations.\n",
      "To enable the following instructions: AVX2 AVX_VNNI FMA, in other operations, rebuild TensorFlow with the appropriate compiler flags.\n",
      "2025-08-24 13:56:19.164672: I tensorflow/core/util/port.cc:153] oneDNN custom operations are on. You may see slightly different numerical results due to floating-point round-off errors from different computation orders. To turn them off, set the environment variable `TF_ENABLE_ONEDNN_OPTS=0`.\n",
      "WARNING: All log messages before absl::InitializeLog() is called are written to STDERR\n",
      "I0000 00:00:1756023979.806430   23245 gpu_device.cc:2020] Created device /job:localhost/replica:0/task:0/device:GPU:0 with 1201 MB memory:  -> device: 0, name: NVIDIA GeForce RTX 3050 6GB Laptop GPU, pci bus id: 0000:01:00.0, compute capability: 8.6\n"
     ]
    }
   ],
   "source": [
    "import tensorflow as tf\n",
    "cnn = tf.keras.models.load_model('model.keras')"
   ]
  },
  {
   "cell_type": "code",
   "execution_count": 10,
   "id": "ace9beb6",
   "metadata": {},
   "outputs": [
    {
     "name": "stdout",
     "output_type": "stream",
     "text": [
      "\u001b[1m1/1\u001b[0m \u001b[32m━━━━━━━━━━━━━━━━━━━━\u001b[0m\u001b[37m\u001b[0m \u001b[1m0s\u001b[0m 27ms/step\n",
      "Crispy Chicken\n"
     ]
    }
   ],
   "source": [
    "import numpy as np\n",
    "from tensorflow.keras.preprocessing import image\n",
    "\n",
    "img = image.load_img('dataset/Prediction/chicken-test.jpg', target_size=(128,128))\n",
    "x = image.img_to_array(img) / 255.0\n",
    "x = np.expand_dims(x, axis=0)\n",
    "probs = cnn.predict(x)\n",
    "pred_index = np.argmax(probs[0])\n",
    "if pred_index==0:\n",
    "    print(\"Baked Potato\")\n",
    "elif pred_index==1:\n",
    "    print(\"Burger\")\n",
    "elif pred_index==2:\n",
    "    print(\"Crispy Chicken\")\n",
    "elif pred_index==3:\n",
    "    print(\"Donut\")\n",
    "elif pred_index==4:\n",
    "    print(\"Fries\")\n",
    "elif pred_index==5:\n",
    "    print(\"Hot Dog\")\n",
    "elif pred_index==6:\n",
    "    print(\"Pizza\")\n",
    "elif pred_index==7:\n",
    "    print(\"Sandwich\")\n",
    "elif pred_index==8:\n",
    "    print(\"Taco\")\n",
    "elif pred_index==9:\n",
    "    print(\"Taquito\")"
   ]
  }
 ],
 "metadata": {
  "kernelspec": {
   "display_name": ".venv",
   "language": "python",
   "name": "python3"
  },
  "language_info": {
   "codemirror_mode": {
    "name": "ipython",
    "version": 3
   },
   "file_extension": ".py",
   "mimetype": "text/x-python",
   "name": "python",
   "nbconvert_exporter": "python",
   "pygments_lexer": "ipython3",
   "version": "3.12.3"
  }
 },
 "nbformat": 4,
 "nbformat_minor": 5
}
